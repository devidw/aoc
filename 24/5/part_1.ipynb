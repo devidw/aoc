{
 "cells": [
  {
   "cell_type": "code",
   "execution_count": 1,
   "metadata": {},
   "outputs": [
    {
     "name": "stdout",
     "output_type": "stream",
     "text": [
      "21\n",
      "6\n",
      "{ good_len: 3, good_ones: [ 0, 1, 2 ], sum: 143 }\n"
     ]
    }
   ],
   "source": [
    "import { main, parse_order, parse_series } from \"./part_1.ts\"\n",
    "\n",
    "const order = parse_order(await Deno.readTextFile(\"./test_input_order.txt\"))\n",
    "const series = parse_series(await Deno.readTextFile(\"./test_input_series.txt\"))\n",
    "// const order = parse_order(await Deno.readTextFile(\"./input_order.txt\"))\n",
    "// const series = parse_series(await Deno.readTextFile(\"./input_series.txt\"))\n",
    "\n",
    "console.info(order.length)\n",
    "console.info(series.length)\n",
    "\n",
    "const out = main({\n",
    "  //   series: [series[3]],\n",
    "  series,\n",
    "  order,\n",
    "})\n",
    "\n",
    "console.info(out)\n"
   ]
  }
 ],
 "metadata": {
  "kernelspec": {
   "display_name": "Deno",
   "language": "typescript",
   "name": "deno"
  },
  "language_info": {
   "codemirror_mode": "typescript",
   "file_extension": ".ts",
   "mimetype": "text/x.typescript",
   "name": "typescript",
   "nbconvert_exporter": "script",
   "pygments_lexer": "typescript",
   "version": "5.6.2"
  }
 },
 "nbformat": 4,
 "nbformat_minor": 2
}
