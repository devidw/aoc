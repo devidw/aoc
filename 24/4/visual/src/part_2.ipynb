{
 "cells": [
  {
   "cell_type": "code",
   "execution_count": 3,
   "metadata": {},
   "outputs": [
    {
     "name": "stdout",
     "output_type": "stream",
     "text": [
      "1807\n"
     ]
    }
   ],
   "source": [
    "import matrix from \"./matrix.json\" with { type: \"json\" }\n",
    "import {\n",
    "  main_2,\n",
    "  construct_matrix,\n",
    "  flatten,\n",
    "  get_cord_lines,\n",
    "  is_x_match,\n",
    "} from \"./lib.ts\"\n",
    "\n",
    "const test_matrix = construct_matrix(\n",
    "  `MMMSXXMASM\n",
    "MSAMXMSMSA\n",
    "AMXSXMAAMM\n",
    "MSAMASMSMX\n",
    "XMASAMXAMM\n",
    "XXAMMXXAMA\n",
    "SMSMSASXSS\n",
    "SAXAMASAAA\n",
    "MAMMMXMMMM\n",
    "MXMXAXMASX`\n",
    ")\n",
    "\n",
    "// const lines = get_cord_lines({ matrix: test_matrix, y: 1, x: 2, distance: 1 })\n",
    "// console.info(lines)\n",
    "\n",
    "// is_x_match(lines.diagonal_bottom_to_top, lines.diagonal_top_to_bottom)\n",
    "\n",
    "const all = main_2(matrix)\n",
    "console.info(all.length)\n"
   ]
  }
 ],
 "metadata": {
  "kernelspec": {
   "display_name": "Deno",
   "language": "typescript",
   "name": "deno"
  },
  "language_info": {
   "codemirror_mode": "typescript",
   "file_extension": ".ts",
   "mimetype": "text/x.typescript",
   "name": "typescript",
   "nbconvert_exporter": "script",
   "pygments_lexer": "typescript",
   "version": "5.6.2"
  }
 },
 "nbformat": 4,
 "nbformat_minor": 2
}
