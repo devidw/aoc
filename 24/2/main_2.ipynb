{
 "cells": [
  {
   "cell_type": "code",
   "execution_count": 67,
   "metadata": {},
   "outputs": [
    {
     "data": {
      "text/plain": [
       "\u001b[33m1000\u001b[39m"
      ]
     },
     "execution_count": 67,
     "metadata": {},
     "output_type": "execute_result"
    }
   ],
   "source": [
    "const raw = await Deno.readTextFile(\"./input.txt\")\n",
    "const lines = raw.split(\"\\n\").map((line) => {\n",
    "  return line.split(\" \").map((num) => Number(num))\n",
    "})\n",
    "lines[0]\n",
    "lines.length\n"
   ]
  },
  {
   "cell_type": "code",
   "execution_count": 68,
   "metadata": {},
   "outputs": [
    {
     "data": {
      "text/plain": [
       "\u001b[33mtrue\u001b[39m"
      ]
     },
     "execution_count": 68,
     "metadata": {},
     "output_type": "execute_result"
    }
   ],
   "source": [
    "function are_diffs_safe(diffs: number[], dir: \"up\" | \"down\") {\n",
    "  for (const diff of diffs) {\n",
    "    if (dir === \"up\") {\n",
    "      if (diff >= 1 && diff <= 3) {\n",
    "        continue\n",
    "      } else {\n",
    "        return false\n",
    "      }\n",
    "    } else if (dir === \"down\") {\n",
    "      if (diff <= -1 && diff >= -3) {\n",
    "        continue\n",
    "      } else {\n",
    "        return false\n",
    "      }\n",
    "    }\n",
    "  }\n",
    "\n",
    "  return true\n",
    "}\n",
    "\n",
    "function get_diffs(report: number[]) {\n",
    "  const diffs: number[] = []\n",
    "\n",
    "  for (let i = 0; i < report.length - 1; i++) {\n",
    "    const current = report[i]\n",
    "    const next = report[i + 1]\n",
    "\n",
    "    let diff = next - current\n",
    "\n",
    "    diffs.push(diff)\n",
    "  }\n",
    "\n",
    "  return diffs\n",
    "}\n",
    "\n",
    "function get_dir(diffs: number[]) {\n",
    "  const down_calls = diffs.filter((val) => val < 0).length\n",
    "  const up_calls = diffs.filter((val) => val > 0).length\n",
    "\n",
    "  const dir = down_calls > up_calls ? \"down\" : \"up\"\n",
    "\n",
    "  return dir\n",
    "}\n",
    "\n",
    "function is_flat_report_safe(report: number[]) {\n",
    "  const diffs = get_diffs(report)\n",
    "  const dir = get_dir(diffs)\n",
    "  const safe = are_diffs_safe(diffs, dir)\n",
    "  return safe\n",
    "}\n",
    "\n",
    "function is_report_safe(report: number[]) {\n",
    "  let safe = is_flat_report_safe(report)\n",
    "  let i = 0\n",
    "\n",
    "  while (!safe && i < report.length) {\n",
    "    const patched_report = report.filter((a, i_) => i !== i_)\n",
    "    safe = is_flat_report_safe(patched_report)\n",
    "\n",
    "    i++\n",
    "  }\n",
    "\n",
    "  return safe\n",
    "}\n",
    "\n",
    "function parse_line(str: string) {\n",
    "  return str.split(\" \").map((a) => Number(a))\n",
    "}\n",
    "\n",
    "is_report_safe(parse_line(\"57 54 58 60 63 66\"))\n"
   ]
  },
  {
   "cell_type": "code",
   "execution_count": 69,
   "metadata": {},
   "outputs": [
    {
     "data": {
      "text/plain": [
       "\u001b[33m710\u001b[39m"
      ]
     },
     "execution_count": 69,
     "metadata": {},
     "output_type": "execute_result"
    }
   ],
   "source": [
    "const safe_lines = lines.filter((line) => is_report_safe(line))\n",
    "safe_lines.length\n"
   ]
  },
  {
   "cell_type": "code",
   "execution_count": 70,
   "metadata": {},
   "outputs": [],
   "source": [
    "const unsafe_lines = lines.filter((line) => !is_report_safe(line))\n",
    "\n",
    "await Deno.writeTextFile(\n",
    "  \"unsafe.txt\",\n",
    "  unsafe_lines.map((a) => a.join(\" \")).join(\"\\n\")\n",
    ")\n"
   ]
  }
 ],
 "metadata": {
  "kernelspec": {
   "display_name": "Deno",
   "language": "typescript",
   "name": "deno"
  },
  "language_info": {
   "codemirror_mode": "typescript",
   "file_extension": ".ts",
   "mimetype": "text/x.typescript",
   "name": "typescript",
   "nbconvert_exporter": "script",
   "pygments_lexer": "typescript",
   "version": "5.6.2"
  }
 },
 "nbformat": 4,
 "nbformat_minor": 2
}
