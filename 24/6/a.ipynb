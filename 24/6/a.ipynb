{
 "cells": [
  {
   "cell_type": "code",
   "execution_count": null,
   "metadata": {},
   "outputs": [],
   "source": [
    "import { parse } from \"./main.ts\"\n",
    "\n",
    "const parsed = parse(Deno.readTextFileSync(\"./input.txt\"))\n",
    "\n",
    "Deno.writeTextFileSync(\"map.json\", JSON.stringify(parsed, null, 4))\n"
   ]
  }
 ],
 "metadata": {
  "kernelspec": {
   "display_name": "Deno",
   "language": "typescript",
   "name": "deno"
  },
  "language_info": {
   "name": "typescript"
  }
 },
 "nbformat": 4,
 "nbformat_minor": 2
}
