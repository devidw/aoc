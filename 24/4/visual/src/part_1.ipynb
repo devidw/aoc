{
 "cells": [
  {
   "cell_type": "code",
   "execution_count": 3,
   "metadata": {},
   "outputs": [
    {
     "name": "stdout",
     "output_type": "stream",
     "text": [
      "9453\n"
     ]
    },
    {
     "data": {
      "text/plain": [
       "\u001b[33m2406\u001b[39m"
      ]
     },
     "execution_count": 3,
     "metadata": {},
     "output_type": "execute_result"
    }
   ],
   "source": [
    "import matrix from \"./matrix.json\" with { type: \"json\" }\n",
    "import { main, construct_matrix, flatten } from \"./lib.ts\"\n",
    "\n",
    "const test_matrix = construct_matrix(\n",
    "  `MMMSXXMASM\n",
    "MSAMXMSMSA\n",
    "AMXSXMAAMM\n",
    "MSAMASMSMX\n",
    "XMASAMXAMM\n",
    "XXAMMXXAMA\n",
    "SMSMSASXSS\n",
    "SAXAMASAAA\n",
    "MAMMMXMMMM\n",
    "MXMXAXMASX`\n",
    ")\n",
    "\n",
    "Deno.writeTextFile(\"test_matrix.json\", JSON.stringify(test_matrix, null, 4))\n",
    "\n",
    "const all = main(matrix)\n",
    "\n",
    "console.info(all.length)\n",
    "\n",
    "const flat = flatten(all)\n",
    "flat.size\n"
   ]
  }
 ],
 "metadata": {
  "kernelspec": {
   "display_name": "Deno",
   "language": "typescript",
   "name": "deno"
  },
  "language_info": {
   "codemirror_mode": "typescript",
   "file_extension": ".ts",
   "mimetype": "text/x.typescript",
   "name": "typescript",
   "nbconvert_exporter": "script",
   "pygments_lexer": "typescript",
   "version": "5.6.2"
  }
 },
 "nbformat": 4,
 "nbformat_minor": 2
}
