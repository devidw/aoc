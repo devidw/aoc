{
 "cells": [
  {
   "cell_type": "code",
   "execution_count": 2,
   "metadata": {},
   "outputs": [
    {
     "name": "stdout",
     "output_type": "stream",
     "text": [
      "1176\n",
      "201\n",
      "{\n",
      "  good_len: 127,\n",
      "  bad_len: 74,\n",
      "  good_ones: [\n",
      "      1,   2,   3,   4,   5,   8,   9,  10,  13,  14,  16,  19,\n",
      "     20,  21,  27,  28,  30,  32,  34,  35,  36,  37,  39,  40,\n",
      "     41,  43,  44,  45,  47,  48,  49,  50,  53,  54,  55,  56,\n",
      "     58,  60,  62,  63,  65,  66,  67,  68,  69,  70,  71,  72,\n",
      "     73,  74,  75,  76,  77,  81,  82,  84,  85,  86,  87,  89,\n",
      "     91,  92,  93,  94,  95,  97,  98, 100, 103, 105, 106, 107,\n",
      "    108, 109, 115, 117, 118, 121, 122, 129, 133, 135, 138, 140,\n",
      "    141, 142, 143, 144, 145, 146, 149, 150, 151, 152, 153, 154,\n",
      "    155, 157, 158, 160,\n",
      "    ... 27 more items\n",
      "  ],\n",
      "  bad_ones: [\n",
      "      0,   6,   7,  11,  12,  15,  17,  18,  22,  23,  24,  25,\n",
      "     26,  29,  31,  33,  38,  42,  46,  51,  52,  57,  59,  61,\n",
      "     64,  78,  79,  80,  83,  88,  90,  96,  99, 101, 102, 104,\n",
      "    110, 111, 112, 113, 114, 116, 119, 120, 123, 124, 125, 126,\n",
      "    127, 128, 130, 131, 132, 134, 136, 137, 139, 147, 148, 156,\n",
      "    159, 163, 164, 165, 173, 182, 183, 184, 185, 188, 192, 197,\n",
      "    198, 200\n",
      "  ],\n",
      "  bad_sum: 4230\n",
      "}\n"
     ]
    }
   ],
   "source": [
    "import { main, parse_order, parse_series, sort } from \"./part_2.ts\"\n",
    "\n",
    "// const order = parse_order(await Deno.readTextFile(\"./test_input_order.txt\"))\n",
    "// const series = parse_series(await Deno.readTextFile(\"./test_input_series.txt\"))\n",
    "const order = parse_order(await Deno.readTextFile(\"./input_order.txt\"))\n",
    "const series = parse_series(await Deno.readTextFile(\"./input_series.txt\"))\n",
    "\n",
    "console.info(order.length)\n",
    "console.info(series.length)\n",
    "\n",
    "// const fresh = sort(series[3], order)\n",
    "// console.info(series[3], fresh)\n",
    "\n",
    "const out = main({\n",
    "  // series: [series[3]],\n",
    "  series,\n",
    "  order,\n",
    "})\n",
    "\n",
    "console.info(out)\n"
   ]
  }
 ],
 "metadata": {
  "kernelspec": {
   "display_name": "Deno",
   "language": "typescript",
   "name": "deno"
  },
  "language_info": {
   "codemirror_mode": "typescript",
   "file_extension": ".ts",
   "mimetype": "text/x.typescript",
   "name": "typescript",
   "nbconvert_exporter": "script",
   "pygments_lexer": "typescript",
   "version": "5.6.2"
  }
 },
 "nbformat": 4,
 "nbformat_minor": 2
}
