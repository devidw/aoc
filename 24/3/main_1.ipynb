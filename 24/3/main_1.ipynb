{
 "cells": [
  {
   "cell_type": "code",
   "execution_count": 1,
   "metadata": {},
   "outputs": [
    {
     "data": {
      "text/plain": [
       "\u001b[33m20172\u001b[39m"
      ]
     },
     "execution_count": 1,
     "metadata": {},
     "output_type": "execute_result"
    }
   ],
   "source": [
    "const raw = await Deno.readTextFile(\"./input.txt\")\n",
    "raw.length\n"
   ]
  },
  {
   "cell_type": "code",
   "execution_count": 8,
   "metadata": {},
   "outputs": [
    {
     "data": {
      "text/plain": [
       "\u001b[33m102467299\u001b[39m"
      ]
     },
     "execution_count": 8,
     "metadata": {},
     "output_type": "execute_result"
    }
   ],
   "source": [
    "const sample =\n",
    "  \"xmul(2,4)&mul[3,7]!^don't()_mul(5,5)+mul(32,64](mul(11,8)undo()?mul(8,5))\"\n",
    "\n",
    "const regex =\n",
    "  /mul\\((?<first>[\\d]{1,3}),(?<second>[\\d]{1,3})\\)|do\\(\\)|don't\\(\\)/g\n",
    "\n",
    "const results = raw.matchAll(regex)\n",
    "\n",
    "let total = 0\n",
    "let enable = true\n",
    "\n",
    "results.forEach((a) => {\n",
    "  // console.info(a)\n",
    "\n",
    "  if (a[0] === \"do()\") {\n",
    "    enable = true\n",
    "    return\n",
    "  } else if (a[0] === \"don't()\") {\n",
    "    enable = false\n",
    "    return\n",
    "  } else if (enable) {\n",
    "    total += a.groups.first * a.groups.second\n",
    "  }\n",
    "})\n",
    "\n",
    "total\n"
   ]
  }
 ],
 "metadata": {
  "kernelspec": {
   "display_name": "Deno",
   "language": "typescript",
   "name": "deno"
  },
  "language_info": {
   "codemirror_mode": "typescript",
   "file_extension": ".ts",
   "mimetype": "text/x.typescript",
   "name": "typescript",
   "nbconvert_exporter": "script",
   "pygments_lexer": "typescript",
   "version": "5.6.2"
  }
 },
 "nbformat": 4,
 "nbformat_minor": 2
}
