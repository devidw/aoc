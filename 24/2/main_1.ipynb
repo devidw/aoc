{
 "cells": [
  {
   "cell_type": "code",
   "execution_count": 2,
   "metadata": {},
   "outputs": [
    {
     "data": {
      "text/plain": [
       "[ \u001b[33m40\u001b[39m, \u001b[33m42\u001b[39m, \u001b[33m45\u001b[39m, \u001b[33m46\u001b[39m, \u001b[33m49\u001b[39m, \u001b[33m47\u001b[39m ]"
      ]
     },
     "execution_count": 2,
     "metadata": {},
     "output_type": "execute_result"
    }
   ],
   "source": [
    "const raw = await Deno.readTextFile(\"./input.txt\")\n",
    "const lines = raw.split(\"\\n\").map((line) => {\n",
    "  return line.split(\" \").map((num) => Number(num))\n",
    "})\n",
    "lines[0]\n"
   ]
  },
  {
   "cell_type": "code",
   "execution_count": 13,
   "metadata": {},
   "outputs": [
    {
     "data": {
      "text/plain": [
       "\u001b[33mfalse\u001b[39m"
      ]
     },
     "execution_count": 13,
     "metadata": {},
     "output_type": "execute_result"
    }
   ],
   "source": [
    "function is_report_safe(report: number[]) {\n",
    "  if (report[0] === report[1]) {\n",
    "    return false\n",
    "  }\n",
    "\n",
    "  const dir = report[0] < report[1] ? \"up\" : \"down\"\n",
    "\n",
    "  for (let i = 0; i < report.length - 1; i++) {\n",
    "    const current = report[i]\n",
    "    const next = report[i + 1]\n",
    "\n",
    "    let diff = 0\n",
    "\n",
    "    if (dir === \"up\") {\n",
    "      diff = next - current\n",
    "    } else if (dir === \"down\") {\n",
    "      diff = current - next\n",
    "    }\n",
    "\n",
    "    const safe = diff >= 1 && diff <= 3\n",
    "\n",
    "    // console.info({ i, dir, current, next, diff, safe })\n",
    "\n",
    "    if (!safe) {\n",
    "      return false\n",
    "    }\n",
    "  }\n",
    "\n",
    "  return true\n",
    "}\n",
    "\n",
    "is_report_safe(lines[5])\n"
   ]
  },
  {
   "cell_type": "code",
   "execution_count": 14,
   "metadata": {},
   "outputs": [
    {
     "data": {
      "text/plain": [
       "\u001b[33m680\u001b[39m"
      ]
     },
     "execution_count": 14,
     "metadata": {},
     "output_type": "execute_result"
    }
   ],
   "source": [
    "const safe_lines = lines.filter((line) => is_report_safe(line))\n",
    "safe_lines.length\n"
   ]
  },
  {
   "cell_type": "code",
   "execution_count": 15,
   "metadata": {},
   "outputs": [
    {
     "data": {
      "text/plain": [
       "[ \u001b[33m48\u001b[39m, \u001b[33m49\u001b[39m, \u001b[33m51\u001b[39m, \u001b[33m52\u001b[39m, \u001b[33m53\u001b[39m, \u001b[33m56\u001b[39m ]"
      ]
     },
     "execution_count": 15,
     "metadata": {},
     "output_type": "execute_result"
    }
   ],
   "source": [
    "safe_lines[0]\n"
   ]
  }
 ],
 "metadata": {
  "kernelspec": {
   "display_name": "Deno",
   "language": "typescript",
   "name": "deno"
  },
  "language_info": {
   "codemirror_mode": "typescript",
   "file_extension": ".ts",
   "mimetype": "text/x.typescript",
   "name": "typescript",
   "nbconvert_exporter": "script",
   "pygments_lexer": "typescript",
   "version": "5.6.2"
  }
 },
 "nbformat": 4,
 "nbformat_minor": 2
}
